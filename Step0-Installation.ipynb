{
 "cells": [
  {
   "cell_type": "markdown",
   "id": "244c7d49-f761-48d2-9a57-9396428866ac",
   "metadata": {},
   "source": [
    "### **Step0-Installation: Setup & Model Initialization**\n",
    "\n",
    "#### **0. Libraries install**\n",
    "Installs requiresd libraries, if not already isntalled."
   ]
  },
  {
   "cell_type": "code",
   "execution_count": 3,
   "id": "67dd5100-78ec-416d-b84c-55fde1e4ab00",
   "metadata": {
    "scrolled": true
   },
   "outputs": [
    {
     "name": "stdout",
     "output_type": "stream",
     "text": [
      "Collecting transformers==4.48.1 (from -r 0_session-install-dependencies/requirements.txt (line 2))\n",
      "  Using cached transformers-4.48.1-py3-none-any.whl.metadata (44 kB)\n",
      "Requirement already satisfied: vllm==0.6.3 in /home/cdsw/.local/lib/python3.10/site-packages (from -r 0_session-install-dependencies/requirements.txt (line 3)) (0.6.3)\n",
      "Requirement already satisfied: pynng==0.8.1 in /home/cdsw/.local/lib/python3.10/site-packages (from -r 0_session-install-dependencies/requirements.txt (line 4)) (0.8.1)\n",
      "Requirement already satisfied: peft==0.14.0 in /home/cdsw/.local/lib/python3.10/site-packages (from -r 0_session-install-dependencies/requirements.txt (line 5)) (0.14.0)\n",
      "Requirement already satisfied: trl==0.14.0 in /home/cdsw/.local/lib/python3.10/site-packages (from -r 0_session-install-dependencies/requirements.txt (line 6)) (0.14.0)\n",
      "Requirement already satisfied: torch==2.4.0 in /home/cdsw/.local/lib/python3.10/site-packages (from -r 0_session-install-dependencies/requirements.txt (line 7)) (2.4.0)\n",
      "Requirement already satisfied: filelock in /home/cdsw/.local/lib/python3.10/site-packages (from transformers==4.48.1->-r 0_session-install-dependencies/requirements.txt (line 2)) (3.18.0)\n",
      "Requirement already satisfied: huggingface-hub<1.0,>=0.24.0 in /home/cdsw/.local/lib/python3.10/site-packages (from transformers==4.48.1->-r 0_session-install-dependencies/requirements.txt (line 2)) (0.29.3)\n",
      "Requirement already satisfied: numpy>=1.17 in /usr/local/lib/python3.10/site-packages (from transformers==4.48.1->-r 0_session-install-dependencies/requirements.txt (line 2)) (1.26.4)\n",
      "Requirement already satisfied: packaging>=20.0 in /usr/local/lib/python3.10/site-packages (from transformers==4.48.1->-r 0_session-install-dependencies/requirements.txt (line 2)) (23.2)\n",
      "Requirement already satisfied: pyyaml>=5.1 in /usr/local/lib/python3.10/site-packages (from transformers==4.48.1->-r 0_session-install-dependencies/requirements.txt (line 2)) (6.0)\n",
      "Requirement already satisfied: regex!=2019.12.17 in /usr/local/lib/python3.10/site-packages (from transformers==4.48.1->-r 0_session-install-dependencies/requirements.txt (line 2)) (2024.5.10)\n",
      "Requirement already satisfied: requests in /home/cdsw/.local/lib/python3.10/site-packages (from transformers==4.48.1->-r 0_session-install-dependencies/requirements.txt (line 2)) (2.32.3)\n",
      "Requirement already satisfied: tokenizers<0.22,>=0.21 in /home/cdsw/.local/lib/python3.10/site-packages (from transformers==4.48.1->-r 0_session-install-dependencies/requirements.txt (line 2)) (0.21.1)\n",
      "Requirement already satisfied: safetensors>=0.4.1 in /home/cdsw/.local/lib/python3.10/site-packages (from transformers==4.48.1->-r 0_session-install-dependencies/requirements.txt (line 2)) (0.5.3)\n",
      "Requirement already satisfied: tqdm>=4.27 in /home/cdsw/.local/lib/python3.10/site-packages (from transformers==4.48.1->-r 0_session-install-dependencies/requirements.txt (line 2)) (4.67.1)\n",
      "Requirement already satisfied: psutil in /usr/local/lib/python3.10/site-packages (from vllm==0.6.3->-r 0_session-install-dependencies/requirements.txt (line 3)) (5.9.5)\n",
      "Requirement already satisfied: sentencepiece in /home/cdsw/.local/lib/python3.10/site-packages (from vllm==0.6.3->-r 0_session-install-dependencies/requirements.txt (line 3)) (0.2.0)\n",
      "Requirement already satisfied: py-cpuinfo in /home/cdsw/.local/lib/python3.10/site-packages (from vllm==0.6.3->-r 0_session-install-dependencies/requirements.txt (line 3)) (9.0.0)\n",
      "Requirement already satisfied: protobuf in /runtime-addons/cmladdon-2.0.44-b254/opt/cmladdons/python/site-packages (from vllm==0.6.3->-r 0_session-install-dependencies/requirements.txt (line 3)) (4.25.3)\n",
      "Requirement already satisfied: aiohttp in /usr/local/lib/python3.10/site-packages (from vllm==0.6.3->-r 0_session-install-dependencies/requirements.txt (line 3)) (3.9.5)\n",
      "Requirement already satisfied: openai>=1.40.0 in /home/cdsw/.local/lib/python3.10/site-packages (from vllm==0.6.3->-r 0_session-install-dependencies/requirements.txt (line 3)) (1.68.2)\n",
      "Requirement already satisfied: uvicorn[standard] in /home/cdsw/.local/lib/python3.10/site-packages (from vllm==0.6.3->-r 0_session-install-dependencies/requirements.txt (line 3)) (0.34.0)\n",
      "Requirement already satisfied: pydantic>=2.9 in /home/cdsw/.local/lib/python3.10/site-packages (from vllm==0.6.3->-r 0_session-install-dependencies/requirements.txt (line 3)) (2.10.6)\n",
      "Requirement already satisfied: pillow in /usr/local/lib/python3.10/site-packages (from vllm==0.6.3->-r 0_session-install-dependencies/requirements.txt (line 3)) (10.3.0)\n",
      "Requirement already satisfied: prometheus-client>=0.18.0 in /home/cdsw/.local/lib/python3.10/site-packages (from vllm==0.6.3->-r 0_session-install-dependencies/requirements.txt (line 3)) (0.21.1)\n",
      "Requirement already satisfied: prometheus-fastapi-instrumentator>=7.0.0 in /home/cdsw/.local/lib/python3.10/site-packages (from vllm==0.6.3->-r 0_session-install-dependencies/requirements.txt (line 3)) (7.1.0)\n",
      "Requirement already satisfied: tiktoken>=0.6.0 in /home/cdsw/.local/lib/python3.10/site-packages (from vllm==0.6.3->-r 0_session-install-dependencies/requirements.txt (line 3)) (0.9.0)\n",
      "Requirement already satisfied: lm-format-enforcer==0.10.6 in /home/cdsw/.local/lib/python3.10/site-packages (from vllm==0.6.3->-r 0_session-install-dependencies/requirements.txt (line 3)) (0.10.6)\n",
      "Requirement already satisfied: outlines<0.1,>=0.0.43 in /home/cdsw/.local/lib/python3.10/site-packages (from vllm==0.6.3->-r 0_session-install-dependencies/requirements.txt (line 3)) (0.0.46)\n",
      "Requirement already satisfied: typing-extensions>=4.10 in /home/cdsw/.local/lib/python3.10/site-packages (from vllm==0.6.3->-r 0_session-install-dependencies/requirements.txt (line 3)) (4.12.2)\n",
      "Requirement already satisfied: partial-json-parser in /home/cdsw/.local/lib/python3.10/site-packages (from vllm==0.6.3->-r 0_session-install-dependencies/requirements.txt (line 3)) (0.2.1.1.post5)\n",
      "Requirement already satisfied: pyzmq in /usr/local/lib/python3.10/site-packages (from vllm==0.6.3->-r 0_session-install-dependencies/requirements.txt (line 3)) (25.1.2)\n",
      "Requirement already satisfied: msgspec in /home/cdsw/.local/lib/python3.10/site-packages (from vllm==0.6.3->-r 0_session-install-dependencies/requirements.txt (line 3)) (0.19.0)\n",
      "Requirement already satisfied: gguf==0.10.0 in /home/cdsw/.local/lib/python3.10/site-packages (from vllm==0.6.3->-r 0_session-install-dependencies/requirements.txt (line 3)) (0.10.0)\n",
      "Requirement already satisfied: importlib-metadata in /usr/local/lib/python3.10/site-packages (from vllm==0.6.3->-r 0_session-install-dependencies/requirements.txt (line 3)) (7.1.0)\n",
      "Requirement already satisfied: mistral-common>=1.4.4 in /home/cdsw/.local/lib/python3.10/site-packages (from mistral-common[opencv]>=1.4.4->vllm==0.6.3->-r 0_session-install-dependencies/requirements.txt (line 3)) (1.5.4)\n",
      "Requirement already satisfied: einops in /home/cdsw/.local/lib/python3.10/site-packages (from vllm==0.6.3->-r 0_session-install-dependencies/requirements.txt (line 3)) (0.8.1)\n",
      "Requirement already satisfied: ray>=2.9 in /home/cdsw/.local/lib/python3.10/site-packages (from vllm==0.6.3->-r 0_session-install-dependencies/requirements.txt (line 3)) (2.44.0)\n",
      "Requirement already satisfied: nvidia-ml-py in /home/cdsw/.local/lib/python3.10/site-packages (from vllm==0.6.3->-r 0_session-install-dependencies/requirements.txt (line 3)) (12.570.86)\n",
      "Requirement already satisfied: torchvision==0.19 in /home/cdsw/.local/lib/python3.10/site-packages (from vllm==0.6.3->-r 0_session-install-dependencies/requirements.txt (line 3)) (0.19.0)\n",
      "Requirement already satisfied: xformers==0.0.27.post2 in /home/cdsw/.local/lib/python3.10/site-packages (from vllm==0.6.3->-r 0_session-install-dependencies/requirements.txt (line 3)) (0.0.27.post2)\n",
      "Requirement already satisfied: fastapi!=0.113.*,!=0.114.0,>=0.107.0 in /home/cdsw/.local/lib/python3.10/site-packages (from vllm==0.6.3->-r 0_session-install-dependencies/requirements.txt (line 3)) (0.115.11)\n",
      "Requirement already satisfied: cffi in /usr/local/lib/python3.10/site-packages (from pynng==0.8.1->-r 0_session-install-dependencies/requirements.txt (line 4)) (1.15.1)\n",
      "Requirement already satisfied: sniffio in /usr/local/lib/python3.10/site-packages (from pynng==0.8.1->-r 0_session-install-dependencies/requirements.txt (line 4)) (1.3.0)\n",
      "Requirement already satisfied: accelerate>=0.21.0 in /home/cdsw/.local/lib/python3.10/site-packages (from peft==0.14.0->-r 0_session-install-dependencies/requirements.txt (line 5)) (1.5.2)\n",
      "Requirement already satisfied: datasets>=2.21.0 in /home/cdsw/.local/lib/python3.10/site-packages (from trl==0.14.0->-r 0_session-install-dependencies/requirements.txt (line 6)) (3.4.1)\n",
      "Requirement already satisfied: rich in /home/cdsw/.local/lib/python3.10/site-packages (from trl==0.14.0->-r 0_session-install-dependencies/requirements.txt (line 6)) (13.9.4)\n",
      "Requirement already satisfied: sympy in /home/cdsw/.local/lib/python3.10/site-packages (from torch==2.4.0->-r 0_session-install-dependencies/requirements.txt (line 7)) (1.13.3)\n",
      "Requirement already satisfied: networkx in /home/cdsw/.local/lib/python3.10/site-packages (from torch==2.4.0->-r 0_session-install-dependencies/requirements.txt (line 7)) (3.4.2)\n",
      "Requirement already satisfied: jinja2 in /usr/local/lib/python3.10/site-packages (from torch==2.4.0->-r 0_session-install-dependencies/requirements.txt (line 7)) (3.1.3)\n",
      "Requirement already satisfied: fsspec in /usr/local/lib/python3.10/site-packages (from torch==2.4.0->-r 0_session-install-dependencies/requirements.txt (line 7)) (2024.3.1)\n",
      "Requirement already satisfied: nvidia-cuda-nvrtc-cu12==12.1.105 in /home/cdsw/.local/lib/python3.10/site-packages (from torch==2.4.0->-r 0_session-install-dependencies/requirements.txt (line 7)) (12.1.105)\n",
      "Requirement already satisfied: nvidia-cuda-runtime-cu12==12.1.105 in /home/cdsw/.local/lib/python3.10/site-packages (from torch==2.4.0->-r 0_session-install-dependencies/requirements.txt (line 7)) (12.1.105)\n",
      "Requirement already satisfied: nvidia-cuda-cupti-cu12==12.1.105 in /home/cdsw/.local/lib/python3.10/site-packages (from torch==2.4.0->-r 0_session-install-dependencies/requirements.txt (line 7)) (12.1.105)\n",
      "Requirement already satisfied: nvidia-cudnn-cu12==9.1.0.70 in /home/cdsw/.local/lib/python3.10/site-packages (from torch==2.4.0->-r 0_session-install-dependencies/requirements.txt (line 7)) (9.1.0.70)\n",
      "Requirement already satisfied: nvidia-cublas-cu12==12.1.3.1 in /home/cdsw/.local/lib/python3.10/site-packages (from torch==2.4.0->-r 0_session-install-dependencies/requirements.txt (line 7)) (12.1.3.1)\n",
      "Requirement already satisfied: nvidia-cufft-cu12==11.0.2.54 in /home/cdsw/.local/lib/python3.10/site-packages (from torch==2.4.0->-r 0_session-install-dependencies/requirements.txt (line 7)) (11.0.2.54)\n",
      "Requirement already satisfied: nvidia-curand-cu12==10.3.2.106 in /home/cdsw/.local/lib/python3.10/site-packages (from torch==2.4.0->-r 0_session-install-dependencies/requirements.txt (line 7)) (10.3.2.106)\n",
      "Requirement already satisfied: nvidia-cusolver-cu12==11.4.5.107 in /home/cdsw/.local/lib/python3.10/site-packages (from torch==2.4.0->-r 0_session-install-dependencies/requirements.txt (line 7)) (11.4.5.107)\n",
      "Requirement already satisfied: nvidia-cusparse-cu12==12.1.0.106 in /home/cdsw/.local/lib/python3.10/site-packages (from torch==2.4.0->-r 0_session-install-dependencies/requirements.txt (line 7)) (12.1.0.106)\n",
      "Requirement already satisfied: nvidia-nccl-cu12==2.20.5 in /home/cdsw/.local/lib/python3.10/site-packages (from torch==2.4.0->-r 0_session-install-dependencies/requirements.txt (line 7)) (2.20.5)\n",
      "Requirement already satisfied: nvidia-nvtx-cu12==12.1.105 in /home/cdsw/.local/lib/python3.10/site-packages (from torch==2.4.0->-r 0_session-install-dependencies/requirements.txt (line 7)) (12.1.105)\n",
      "Requirement already satisfied: triton==3.0.0 in /home/cdsw/.local/lib/python3.10/site-packages (from torch==2.4.0->-r 0_session-install-dependencies/requirements.txt (line 7)) (3.0.0)\n",
      "Requirement already satisfied: interegular>=0.3.2 in /home/cdsw/.local/lib/python3.10/site-packages (from lm-format-enforcer==0.10.6->vllm==0.6.3->-r 0_session-install-dependencies/requirements.txt (line 3)) (0.3.3)\n",
      "Requirement already satisfied: nvidia-nvjitlink-cu12 in /home/cdsw/.local/lib/python3.10/site-packages (from nvidia-cusolver-cu12==11.4.5.107->torch==2.4.0->-r 0_session-install-dependencies/requirements.txt (line 7)) (12.8.93)\n",
      "Requirement already satisfied: pyarrow>=15.0.0 in /home/cdsw/.local/lib/python3.10/site-packages (from datasets>=2.21.0->trl==0.14.0->-r 0_session-install-dependencies/requirements.txt (line 6)) (19.0.1)\n",
      "Requirement already satisfied: dill<0.3.9,>=0.3.0 in /home/cdsw/.local/lib/python3.10/site-packages (from datasets>=2.21.0->trl==0.14.0->-r 0_session-install-dependencies/requirements.txt (line 6)) (0.3.8)\n",
      "Requirement already satisfied: pandas in /usr/local/lib/python3.10/site-packages (from datasets>=2.21.0->trl==0.14.0->-r 0_session-install-dependencies/requirements.txt (line 6)) (2.1.4)\n",
      "Requirement already satisfied: xxhash in /home/cdsw/.local/lib/python3.10/site-packages (from datasets>=2.21.0->trl==0.14.0->-r 0_session-install-dependencies/requirements.txt (line 6)) (3.5.0)\n",
      "Requirement already satisfied: multiprocess<0.70.17 in /home/cdsw/.local/lib/python3.10/site-packages (from datasets>=2.21.0->trl==0.14.0->-r 0_session-install-dependencies/requirements.txt (line 6)) (0.70.16)\n",
      "Requirement already satisfied: starlette<0.47.0,>=0.40.0 in /home/cdsw/.local/lib/python3.10/site-packages (from fastapi!=0.113.*,!=0.114.0,>=0.107.0->vllm==0.6.3->-r 0_session-install-dependencies/requirements.txt (line 3)) (0.46.1)\n",
      "Requirement already satisfied: jsonschema>=4.21.1 in /usr/local/lib/python3.10/site-packages (from mistral-common>=1.4.4->mistral-common[opencv]>=1.4.4->vllm==0.6.3->-r 0_session-install-dependencies/requirements.txt (line 3)) (4.21.1)\n",
      "Requirement already satisfied: opencv-python-headless>=4.0.0 in /home/cdsw/.local/lib/python3.10/site-packages (from mistral-common[opencv]>=1.4.4->vllm==0.6.3->-r 0_session-install-dependencies/requirements.txt (line 3)) (4.11.0.86)\n",
      "Requirement already satisfied: anyio<5,>=3.5.0 in /usr/local/lib/python3.10/site-packages (from openai>=1.40.0->vllm==0.6.3->-r 0_session-install-dependencies/requirements.txt (line 3)) (3.6.2)\n",
      "Requirement already satisfied: distro<2,>=1.7.0 in /home/cdsw/.local/lib/python3.10/site-packages (from openai>=1.40.0->vllm==0.6.3->-r 0_session-install-dependencies/requirements.txt (line 3)) (1.9.0)\n",
      "Requirement already satisfied: httpx<1,>=0.23.0 in /usr/local/lib/python3.10/site-packages (from openai>=1.40.0->vllm==0.6.3->-r 0_session-install-dependencies/requirements.txt (line 3)) (0.27.0)\n",
      "Requirement already satisfied: jiter<1,>=0.4.0 in /home/cdsw/.local/lib/python3.10/site-packages (from openai>=1.40.0->vllm==0.6.3->-r 0_session-install-dependencies/requirements.txt (line 3)) (0.9.0)\n",
      "Requirement already satisfied: lark in /home/cdsw/.local/lib/python3.10/site-packages (from outlines<0.1,>=0.0.43->vllm==0.6.3->-r 0_session-install-dependencies/requirements.txt (line 3)) (1.2.2)\n",
      "Requirement already satisfied: nest-asyncio in /usr/local/lib/python3.10/site-packages (from outlines<0.1,>=0.0.43->vllm==0.6.3->-r 0_session-install-dependencies/requirements.txt (line 3)) (1.5.5)\n",
      "Requirement already satisfied: cloudpickle in /usr/local/lib/python3.10/site-packages (from outlines<0.1,>=0.0.43->vllm==0.6.3->-r 0_session-install-dependencies/requirements.txt (line 3)) (3.0.0)\n",
      "Requirement already satisfied: diskcache in /home/cdsw/.local/lib/python3.10/site-packages (from outlines<0.1,>=0.0.43->vllm==0.6.3->-r 0_session-install-dependencies/requirements.txt (line 3)) (5.6.3)\n",
      "Requirement already satisfied: numba in /home/cdsw/.local/lib/python3.10/site-packages (from outlines<0.1,>=0.0.43->vllm==0.6.3->-r 0_session-install-dependencies/requirements.txt (line 3)) (0.61.0)\n",
      "Requirement already satisfied: referencing in /usr/local/lib/python3.10/site-packages (from outlines<0.1,>=0.0.43->vllm==0.6.3->-r 0_session-install-dependencies/requirements.txt (line 3)) (0.34.0)\n",
      "Requirement already satisfied: pycountry in /home/cdsw/.local/lib/python3.10/site-packages (from outlines<0.1,>=0.0.43->vllm==0.6.3->-r 0_session-install-dependencies/requirements.txt (line 3)) (24.6.1)\n",
      "Requirement already satisfied: pyairports in /home/cdsw/.local/lib/python3.10/site-packages (from outlines<0.1,>=0.0.43->vllm==0.6.3->-r 0_session-install-dependencies/requirements.txt (line 3)) (2.1.1)\n",
      "Requirement already satisfied: annotated-types>=0.6.0 in /home/cdsw/.local/lib/python3.10/site-packages (from pydantic>=2.9->vllm==0.6.3->-r 0_session-install-dependencies/requirements.txt (line 3)) (0.7.0)\n",
      "Requirement already satisfied: pydantic-core==2.27.2 in /home/cdsw/.local/lib/python3.10/site-packages (from pydantic>=2.9->vllm==0.6.3->-r 0_session-install-dependencies/requirements.txt (line 3)) (2.27.2)\n",
      "Requirement already satisfied: click>=7.0 in /usr/local/lib/python3.10/site-packages (from ray>=2.9->vllm==0.6.3->-r 0_session-install-dependencies/requirements.txt (line 3)) (8.1.7)\n",
      "Requirement already satisfied: msgpack<2.0.0,>=1.0.0 in /usr/local/lib/python3.10/site-packages (from ray>=2.9->vllm==0.6.3->-r 0_session-install-dependencies/requirements.txt (line 3)) (1.0.8)\n",
      "Requirement already satisfied: aiosignal in /usr/local/lib/python3.10/site-packages (from ray>=2.9->vllm==0.6.3->-r 0_session-install-dependencies/requirements.txt (line 3)) (1.3.1)\n",
      "Requirement already satisfied: frozenlist in /usr/local/lib/python3.10/site-packages (from ray>=2.9->vllm==0.6.3->-r 0_session-install-dependencies/requirements.txt (line 3)) (1.4.1)\n",
      "Requirement already satisfied: charset-normalizer<4,>=2 in /usr/local/lib/python3.10/site-packages (from requests->transformers==4.48.1->-r 0_session-install-dependencies/requirements.txt (line 2)) (3.1.0)\n",
      "Requirement already satisfied: idna<4,>=2.5 in /usr/local/lib/python3.10/site-packages (from requests->transformers==4.48.1->-r 0_session-install-dependencies/requirements.txt (line 2)) (3.4)\n",
      "Requirement already satisfied: urllib3<3,>=1.21.1 in /usr/local/lib/python3.10/site-packages (from requests->transformers==4.48.1->-r 0_session-install-dependencies/requirements.txt (line 2)) (1.26.18)\n",
      "Requirement already satisfied: certifi>=2017.4.17 in /usr/local/lib/python3.10/site-packages (from requests->transformers==4.48.1->-r 0_session-install-dependencies/requirements.txt (line 2)) (2023.7.22)\n",
      "Requirement already satisfied: attrs>=17.3.0 in /usr/local/lib/python3.10/site-packages (from aiohttp->vllm==0.6.3->-r 0_session-install-dependencies/requirements.txt (line 3)) (23.1.0)\n",
      "Requirement already satisfied: multidict<7.0,>=4.5 in /usr/local/lib/python3.10/site-packages (from aiohttp->vllm==0.6.3->-r 0_session-install-dependencies/requirements.txt (line 3)) (6.0.5)\n",
      "Requirement already satisfied: yarl<2.0,>=1.0 in /usr/local/lib/python3.10/site-packages (from aiohttp->vllm==0.6.3->-r 0_session-install-dependencies/requirements.txt (line 3)) (1.9.4)\n",
      "Requirement already satisfied: async-timeout<5.0,>=4.0 in /usr/local/lib/python3.10/site-packages (from aiohttp->vllm==0.6.3->-r 0_session-install-dependencies/requirements.txt (line 3)) (4.0.3)\n",
      "Requirement already satisfied: pycparser in /usr/local/lib/python3.10/site-packages (from cffi->pynng==0.8.1->-r 0_session-install-dependencies/requirements.txt (line 4)) (2.21)\n",
      "Requirement already satisfied: zipp>=0.5 in /usr/local/lib/python3.10/site-packages (from importlib-metadata->vllm==0.6.3->-r 0_session-install-dependencies/requirements.txt (line 3)) (3.18.1)\n",
      "Requirement already satisfied: MarkupSafe>=2.0 in /usr/local/lib/python3.10/site-packages (from jinja2->torch==2.4.0->-r 0_session-install-dependencies/requirements.txt (line 7)) (2.1.2)\n",
      "Requirement already satisfied: markdown-it-py>=2.2.0 in /home/cdsw/.local/lib/python3.10/site-packages (from rich->trl==0.14.0->-r 0_session-install-dependencies/requirements.txt (line 6)) (3.0.0)\n",
      "Requirement already satisfied: pygments<3.0.0,>=2.13.0 in /usr/local/lib/python3.10/site-packages (from rich->trl==0.14.0->-r 0_session-install-dependencies/requirements.txt (line 6)) (2.15.1)\n",
      "Requirement already satisfied: mpmath<1.4,>=1.1.0 in /home/cdsw/.local/lib/python3.10/site-packages (from sympy->torch==2.4.0->-r 0_session-install-dependencies/requirements.txt (line 7)) (1.3.0)\n",
      "Requirement already satisfied: h11>=0.8 in /usr/local/lib/python3.10/site-packages (from uvicorn[standard]->vllm==0.6.3->-r 0_session-install-dependencies/requirements.txt (line 3)) (0.14.0)\n",
      "Requirement already satisfied: httptools>=0.6.3 in /home/cdsw/.local/lib/python3.10/site-packages (from uvicorn[standard]->vllm==0.6.3->-r 0_session-install-dependencies/requirements.txt (line 3)) (0.6.4)\n",
      "Requirement already satisfied: python-dotenv>=0.13 in /home/cdsw/.local/lib/python3.10/site-packages (from uvicorn[standard]->vllm==0.6.3->-r 0_session-install-dependencies/requirements.txt (line 3)) (1.0.1)\n",
      "Requirement already satisfied: uvloop!=0.15.0,!=0.15.1,>=0.14.0 in /home/cdsw/.local/lib/python3.10/site-packages (from uvicorn[standard]->vllm==0.6.3->-r 0_session-install-dependencies/requirements.txt (line 3)) (0.21.0)\n",
      "Requirement already satisfied: watchfiles>=0.13 in /home/cdsw/.local/lib/python3.10/site-packages (from uvicorn[standard]->vllm==0.6.3->-r 0_session-install-dependencies/requirements.txt (line 3)) (1.0.4)\n",
      "Requirement already satisfied: websockets>=10.4 in /home/cdsw/.local/lib/python3.10/site-packages (from uvicorn[standard]->vllm==0.6.3->-r 0_session-install-dependencies/requirements.txt (line 3)) (15.0.1)\n",
      "Requirement already satisfied: httpcore==1.* in /usr/local/lib/python3.10/site-packages (from httpx<1,>=0.23.0->openai>=1.40.0->vllm==0.6.3->-r 0_session-install-dependencies/requirements.txt (line 3)) (1.0.4)\n",
      "Requirement already satisfied: jsonschema-specifications>=2023.03.6 in /usr/local/lib/python3.10/site-packages (from jsonschema>=4.21.1->mistral-common>=1.4.4->mistral-common[opencv]>=1.4.4->vllm==0.6.3->-r 0_session-install-dependencies/requirements.txt (line 3)) (2023.12.1)\n",
      "Requirement already satisfied: rpds-py>=0.7.1 in /usr/local/lib/python3.10/site-packages (from jsonschema>=4.21.1->mistral-common>=1.4.4->mistral-common[opencv]>=1.4.4->vllm==0.6.3->-r 0_session-install-dependencies/requirements.txt (line 3)) (0.18.0)\n",
      "Requirement already satisfied: mdurl~=0.1 in /home/cdsw/.local/lib/python3.10/site-packages (from markdown-it-py>=2.2.0->rich->trl==0.14.0->-r 0_session-install-dependencies/requirements.txt (line 6)) (0.1.2)\n",
      "Requirement already satisfied: llvmlite<0.45,>=0.44.0dev0 in /home/cdsw/.local/lib/python3.10/site-packages (from numba->outlines<0.1,>=0.0.43->vllm==0.6.3->-r 0_session-install-dependencies/requirements.txt (line 3)) (0.44.0)\n",
      "Requirement already satisfied: python-dateutil>=2.8.2 in /usr/local/lib/python3.10/site-packages (from pandas->datasets>=2.21.0->trl==0.14.0->-r 0_session-install-dependencies/requirements.txt (line 6)) (2.8.2)\n",
      "Requirement already satisfied: pytz>=2020.1 in /usr/local/lib/python3.10/site-packages (from pandas->datasets>=2.21.0->trl==0.14.0->-r 0_session-install-dependencies/requirements.txt (line 6)) (2023.3.post1)\n",
      "Requirement already satisfied: tzdata>=2022.1 in /usr/local/lib/python3.10/site-packages (from pandas->datasets>=2.21.0->trl==0.14.0->-r 0_session-install-dependencies/requirements.txt (line 6)) (2023.3)\n",
      "Requirement already satisfied: six>=1.5 in /usr/local/lib/python3.10/site-packages (from python-dateutil>=2.8.2->pandas->datasets>=2.21.0->trl==0.14.0->-r 0_session-install-dependencies/requirements.txt (line 6)) (1.16.0)\n",
      "Using cached transformers-4.48.1-py3-none-any.whl (9.7 MB)\n",
      "Installing collected packages: transformers\n",
      "  Attempting uninstall: transformers\n",
      "    Found existing installation: transformers 4.47.1\n",
      "    Uninstalling transformers-4.47.1:\n",
      "      Successfully uninstalled transformers-4.47.1\n",
      "\u001b[31mERROR: pip's dependency resolver does not currently take into account all the packages that are installed. This behaviour is the source of the following dependency conflicts.\n",
      "autoawq 0.2.8 requires transformers<=4.47.1,>=4.45.0, but you have transformers 4.48.1 which is incompatible.\u001b[0m\u001b[31m\n",
      "\u001b[0mSuccessfully installed transformers-4.48.1\n"
     ]
    }
   ],
   "source": [
    "!pip install -r 0_session-install-dependencies/requirements.txt"
   ]
  },
  {
   "cell_type": "markdown",
   "id": "fa315827-e644-4355-92ee-1bc4fc2a619e",
   "metadata": {},
   "source": [
    "### **Step0-Installation: Setup & Model Initialization**\n",
    "\n",
    "#### **1. Setup and Imports**\n",
    "Initializes the environment by importing necessary libraries and defining a flag to control optional model downloads.\n"
   ]
  },
  {
   "cell_type": "code",
   "execution_count": 1,
   "id": "db60255e-b51a-49a1-b125-8a547a7e72f8",
   "metadata": {},
   "outputs": [],
   "source": [
    "import torch\n",
    "import torch.multiprocessing  as mp\n",
    "\n",
    "def DownloadModel(Model):\n",
    "    from transformers import AutoTokenizer, AutoModelForCausalLM\n",
    "\n",
    "    tokenizer = AutoTokenizer.from_pretrained(Model,device_map = 'auto')\n",
    "    model = AutoModelForCausalLM.from_pretrained(Model,device_map = 'auto',torch_dtype=torch.float16)\n"
   ]
  },
  {
   "cell_type": "markdown",
   "id": "4c90efe8-a34e-4f29-ae6c-361b483f3132",
   "metadata": {},
   "source": [
    "#### **2. Download Models **\n",
    "Downloads the selected models for processing in next steps. \n"
   ]
  },
  {
   "cell_type": "code",
   "execution_count": 8,
   "id": "a525c6e9-610a-4b88-b022-04aa30593de5",
   "metadata": {},
   "outputs": [
    {
     "name": "stderr",
     "output_type": "stream",
     "text": [
      "/home/cdsw/.local/lib/python3.10/site-packages/tqdm/auto.py:21: TqdmWarning: IProgress not found. Please update jupyter and ipywidgets. See https://ipywidgets.readthedocs.io/en/stable/user_install.html\n",
      "  from .autonotebook import tqdm as notebook_tqdm\n",
      "Loading checkpoint shards: 100%|██████████████████| 4/4 [00:04<00:00,  1.12s/it]\n"
     ]
    }
   ],
   "source": [
    "Model='unsloth/Meta-Llama-3.1-8B-Instruct'\n",
    "p=mp.Process(target=DownloadModel,args=(Model,))\n",
    "p.start()\n",
    "p.join()\n"
   ]
  },
  {
   "cell_type": "code",
   "execution_count": 9,
   "id": "b03869d3-4fba-465a-939d-074fbf85d3e0",
   "metadata": {},
   "outputs": [
    {
     "name": "stderr",
     "output_type": "stream",
     "text": [
      "/home/cdsw/.local/lib/python3.10/site-packages/tqdm/auto.py:21: TqdmWarning: IProgress not found. Please update jupyter and ipywidgets. See https://ipywidgets.readthedocs.io/en/stable/user_install.html\n",
      "  from .autonotebook import tqdm as notebook_tqdm\n",
      "Loading checkpoint shards: 100%|██████████████████| 6/6 [00:06<00:00,  1.06s/it]\n"
     ]
    }
   ],
   "source": [
    "Model='microsoft/phi-4'\n",
    "p=mp.Process(target=DownloadModel,args=(Model,))\n",
    "p.start()\n",
    "p.join()"
   ]
  },
  {
   "cell_type": "code",
   "execution_count": 2,
   "id": "cfd9a9cc-76e9-4feb-92e6-d9442e9f4726",
   "metadata": {},
   "outputs": [
    {
     "name": "stderr",
     "output_type": "stream",
     "text": [
      "/home/cdsw/.local/lib/python3.10/site-packages/tqdm/auto.py:21: TqdmWarning: IProgress not found. Please update jupyter and ipywidgets. See https://ipywidgets.readthedocs.io/en/stable/user_install.html\n",
      "  from .autonotebook import tqdm as notebook_tqdm\n"
     ]
    }
   ],
   "source": [
    "Model='unsloth/gemma-2-2b-it'\n",
    "p=mp.Process(target=DownloadModel,args=(Model,))\n",
    "p.start()\n",
    "p.join()\n"
   ]
  },
  {
   "cell_type": "code",
   "execution_count": null,
   "id": "e684f8af-ee96-433b-b223-3ffeade4fafb",
   "metadata": {},
   "outputs": [],
   "source": [
    "***If this documentation includes code, including but not limited to, code examples, Cloudera makes this available to you under the terms of the Apache License, Version 2.0, including any required notices.  A copy of the Apache License Version 2.0 can be found [here](https://opensource.org/licenses/Apache-2.0).***"
   ]
  }
 ],
 "metadata": {
  "kernelspec": {
   "display_name": "Python 3 (ipykernel)",
   "language": "python",
   "name": "python3"
  },
  "language_info": {
   "codemirror_mode": {
    "name": "ipython",
    "version": 3
   },
   "file_extension": ".py",
   "mimetype": "text/x-python",
   "name": "python",
   "nbconvert_exporter": "python",
   "pygments_lexer": "ipython3",
   "version": "3.10.13"
  }
 },
 "nbformat": 4,
 "nbformat_minor": 5
}
