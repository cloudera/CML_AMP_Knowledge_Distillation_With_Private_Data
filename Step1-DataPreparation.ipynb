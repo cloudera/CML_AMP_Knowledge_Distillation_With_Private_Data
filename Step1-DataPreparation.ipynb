{
 "cells": [
  {
   "cell_type": "code",
   "execution_count": 9,
   "id": "0a8ef23a-7f4b-4a0d-91d6-589cb507673e",
   "metadata": {},
   "outputs": [
    {
     "name": "stdout",
     "output_type": "stream",
     "text": [
      "4139\n"
     ]
    }
   ],
   "source": [
    "#Preparing data for Cloudera comments. 11 questions total.\n",
    "import json\n",
    "import random\n",
    "filename='Data/ClouderaComments'\n",
    "with open(filename+'.json', 'r') as file:\n",
    "    data = json.load(file)\n",
    "TrainComments=[]\n",
    "PriorPrompts={}\n",
    "empties=0\n",
    "nonempties=0\n",
    "\n",
    "CommentText=\"\"\"You are given a Cloudera support team comment, 11 questions referring to the comment, and the possible values for each question in parenthesis following the question. Here is the Cloudera comment:\n",
    "    \n",
    "\"\"\"\n",
    "PreppendClouderaQuestions=\"\"\"\n",
    "\n",
    "Here are the 11 questions:\n",
    "1. Does this comment discuss any technical information? (answer 0 for no, 1 for yes)\n",
    "2. Score the severity of the issue based on comment content (SCORE 1-4, give 1 for lowest, 4 for highest and 2,3 for in between)\n",
    "3. Score the urgency of the issue based on the comment content (SCORE 1-4, give 1 for lowest, 4 for highest and 2,3 for in between)\n",
    "4. Does the comment have a proposed solution? (answer 0 for no, 1 for yes)\n",
    "5. Does the comment have a proposed workaround?  (answer 0 for no, 1 for yes)\n",
    "6. Does the comment have a request for an action from the customer?  (answer 0 for no, 1 for yes)\n",
    "7. Does this comment discuss a bug in Cloudera software? (answer 0 for no, 1 for yes)\n",
    "8. Does the comment include a non-Cloudera Apache JIRA link (e.g. a Apache JIRA link with issues.apach.org domain name)? (answer 0 for no, 1 for yes)\n",
    "9. Does the comment have a link to Cloudera Documentation or Community article? (answer 0 for no, 1 for yes)\n",
    "10. Does the comment have any other type of hyperlink? (answer 0 for no, 1 for yes)\n",
    "11. Summarize the case comment condensing it as much as possible but without losing important technical details. Omit including any meeting invite information.  [TEXT]    \n",
    "Generate each answer in a new line using the the format \"Number. answer\" (e.g. 1. 0)\n",
    "\"\"\"\n",
    "\n",
    "for key in data.keys():\n",
    "  if key != 'Overall_Average':\n",
    "      for d in data[key]['evaluated_pairs']:\n",
    "          if d['evaluation']['score'] >4.9:\n",
    "            tmp={}\n",
    "            if d['question'] not in PriorPrompts and d['solution'].split('\\n')[0][0]== '1':\n",
    "              tmp[\"Prompt\"]=CommentText + d['question'] + PreppendClouderaQuestions\n",
    "              PriorPrompts[d['question']]=1\n",
    "    \n",
    "              tmp[\"Completion\"]=d['solution']\n",
    "              tmp[\"Comment\"]=d['question']\n",
    "              TrainComments.append(tmp)\n",
    "print(len(TrainComments))\n",
    "\n",
    "import json\n",
    "import random\n",
    "random.shuffle(TrainComments)\n",
    "\n",
    "with open(filename+'_Train_Clean.json', 'w') as file:\n",
    "    json.dump(TrainComments[0:3500],file)\n",
    "\n",
    "with open(filename+'_Evaluation_Clean.json', 'w') as file:\n",
    "    json.dump(TrainComments[3500:4000],file)\n",
    "\n"
   ]
  },
  {
   "cell_type": "code",
   "execution_count": 10,
   "id": "7b3311b3-e4f6-4a55-8282-6e14566a5f6d",
   "metadata": {},
   "outputs": [
    {
     "data": {
      "text/plain": [
       "dict_keys(['average_score', 'min_score', 'max_score', 'evaluated_pairs', 'failed_pairs', 'total_evaluated', 'total_failed'])"
      ]
     },
     "execution_count": 10,
     "metadata": {},
     "output_type": "execute_result"
    }
   ],
   "source": [
    "#Output structure of SDS for each topic\n",
    "data['Cloudera'].keys()"
   ]
  },
  {
   "cell_type": "code",
   "execution_count": 11,
   "id": "02c6090e-5226-4f83-9306-7477b042806b",
   "metadata": {},
   "outputs": [
    {
     "data": {
      "text/plain": [
       "{'score': 4,\n",
       " 'justification': \"Let's review each answer and deduct points for incorrect ones:\\n\\n1. Technical info (1) - Correct\\n2. Severity (3) - Correct, as metastore issues are significant\\n3. Urgency (3) - Correct, as this affects operations\\n4. Proposed solution (0) - Correct\\n5. Workaround (0) - Correct\\n6. Request for action (1) - Correct, asks for help troubleshooting\\n7. Bug (1) - Incorrect (-2), this appears to be a configuration/connectivity issue, not a software bug\\n8. Apache JIRA (0) - Correct\\n9. Doc link (0) - Correct\\n10. Other link (0) - Correct\\n11. Summary - Correct, captures key points\\n\\nTotal deductions: -2 points for incorrect bug classification\\n\\nFinal score: 4 out of 5\"}"
      ]
     },
     "execution_count": 11,
     "metadata": {},
     "output_type": "execute_result"
    }
   ],
   "source": [
    "#SDS evaluation example\n",
    "data['Cloudera']['evaluated_pairs'][0]['evaluation']"
   ]
  },
  {
   "cell_type": "code",
   "execution_count": 12,
   "id": "197fc9b5-954a-4420-bfc1-58ac2f657c42",
   "metadata": {},
   "outputs": [
    {
     "name": "stdout",
     "output_type": "stream",
     "text": [
      "Hi Team,\n",
      "\n",
      "I wanted to highlight our new CDP visualization and interactive analytics features:\n",
      "\n",
      "CDP provides advanced analytics capabilities including:\n",
      "1. Interactive SQL with Apache Impala\n",
      "2. Real-time visualization dashboards\n",
      "3. Self-service analytics workspace\n",
      "4. Machine learning model deployment\n",
      "5. Integrated business intelligence tools\n",
      "\n",
      "These enterprise features enable data analysts and business users to quickly gain insights while maintaining security and governance standards.\n",
      "\n",
      "Would you like to schedule a demo to explore these features?\n",
      "\n",
      "Best regards,\n",
      "Rachel\n",
      "Analytics Solutions Engineer\n"
     ]
    }
   ],
   "source": [
    "#Synthetic comment example\n",
    "print(TrainComments[0]['Comment'])"
   ]
  },
  {
   "cell_type": "code",
   "execution_count": 13,
   "id": "66672415-b14c-4158-9959-ce3dd744fd21",
   "metadata": {},
   "outputs": [
    {
     "name": "stdout",
     "output_type": "stream",
     "text": [
      "You are given a Cloudera support team comment, 11 questions referring to the comment, and the possible values for each question in parenthesis following the question. Here is the Cloudera comment:\n",
      "    \n",
      "Hi Team,\n",
      "\n",
      "I wanted to highlight our new CDP visualization and interactive analytics features:\n",
      "\n",
      "CDP provides advanced analytics capabilities including:\n",
      "1. Interactive SQL with Apache Impala\n",
      "2. Real-time visualization dashboards\n",
      "3. Self-service analytics workspace\n",
      "4. Machine learning model deployment\n",
      "5. Integrated business intelligence tools\n",
      "\n",
      "These enterprise features enable data analysts and business users to quickly gain insights while maintaining security and governance standards.\n",
      "\n",
      "Would you like to schedule a demo to explore these features?\n",
      "\n",
      "Best regards,\n",
      "Rachel\n",
      "Analytics Solutions Engineer\n",
      "\n",
      "Here are the 11 questions:\n",
      "1. Does this comment discuss any technical information? (answer 0 for no, 1 for yes)\n",
      "2. Score the severity of the issue based on comment content (SCORE 1-4, give 1 for lowest, 4 for highest and 2,3 for in between)\n",
      "3. Score the urgency of the issue based on the comment content (SCORE 1-4, give 1 for lowest, 4 for highest and 2,3 for in between)\n",
      "4. Does the comment have a proposed solution? (answer 0 for no, 1 for yes)\n",
      "5. Does the comment have a proposed workaround?  (answer 0 for no, 1 for yes)\n",
      "6. Does the comment have a request for an action from the customer?  (answer 0 for no, 1 for yes)\n",
      "7. Does this comment discuss a bug in Cloudera software? (answer 0 for no, 1 for yes)\n",
      "8. Does the comment include a non-Cloudera Apache JIRA link (e.g. a Apache JIRA link with issues.apach.org domain name)? (answer 0 for no, 1 for yes)\n",
      "9. Does the comment have a link to Cloudera Documentation or Community article? (answer 0 for no, 1 for yes)\n",
      "10. Does the comment have any other type of hyperlink? (answer 0 for no, 1 for yes)\n",
      "11. Summarize the case comment condensing it as much as possible but without losing important technical details. Omit including any meeting invite information.  [TEXT]    \n",
      "Generate each answer in a new line using the the format \"Number. answer\" (e.g. 1. 0)\n",
      "\n"
     ]
    }
   ],
   "source": [
    "#Final prompt example\n",
    "print(TrainComments[0]['Prompt'])"
   ]
  },
  {
   "cell_type": "code",
   "execution_count": 14,
   "id": "aa314069-d58d-4013-bb01-aef81000f9a5",
   "metadata": {},
   "outputs": [
    {
     "name": "stdout",
     "output_type": "stream",
     "text": [
      "2103\n"
     ]
    }
   ],
   "source": [
    "#Repeat the process for customer comments.\n",
    "import json\n",
    "import random\n",
    "filename='Data/CustomerComments'\n",
    "with open(filename+'.json', 'r') as file:\n",
    "    data = json.load(file)\n",
    "\n",
    "TrainComments=[]\n",
    "PriorPrompts={}\n",
    "empties=0\n",
    "nonempties=0\n",
    "\n",
    "CommentText=\"\"\"You are given a customer comment, 17 questions referring to the comment, and the possible values for each question in parenthesis following the question. Here is the customer comment:\n",
    "\n",
    "\"\"\"\n",
    "PreppendClouderaQuestions=\"\"\"\n",
    "\n",
    "Here are the 17 questions:\n",
    "1. Does this comment discuss any technical information? (answer 0 for no, 1 for yes)\n",
    "2. Does this comment relate to a customer complaint? (answer 0 for no, 1 for yes)\n",
    "3. Customer complaint temperature or a frustration level (if there is a complain give 1 for lowest, 4 for highest and 2,3 for in between. If there is no complain give a score of 0).\n",
    "4. Score the severity of the issue based on comment content (SCORE 1-4, give 1 for lowest, 4 for highest and 2,3 for in between)\n",
    "5. Score the urgency of the issue based on the comment content (SCORE 1-4, give 1 for lowest, 4 for highest and 2,3 for in between)\n",
    "6. Is this a request from a customer for an update? (answer 0 for no, 1 for yes)\n",
    "7. Is there a strictly explicit and NOT an implied request from a customer for a call, meeting or a screenshare (zoom/webex/teams etc.)? Do not answer yes unless wording explicitly asks for a call. ((BOOL:0/1)\n",
    "8. Did the customer request an escalation? (answer 0 for no, 1 for yes)\n",
    "9. Did the customer request a priority change?  To what level? (If there is a priority change give score 1 to indicate highest priority (indicated by S1) and 4  to indicate the lowest priority (Indicated by S4). If there is no priority change give a score of 0).\n",
    "10. Did the customer request a transfer to another Customer Operations Engineer? (answer 0 for no, 1 for yes)\n",
    "11. Did the customer request to speak to a manager or supervisor? (answer 0 for no, 1 for yes)\n",
    "12. Did the customer request a Subject Matter Expert or expert? (answer 0 for no, 1 for yes)\n",
    "13. Does this comment discuss a bug in Cloudera software? (answer 0 for no, 1 for yes)\n",
    "14. Does the comment include a non-Cloudera Apache JIRA link (e.g. a Apache JIRA link with issues.apach.org domain name)? (answer 0 for no, 1 for yes)\n",
    "15. Does the comment have a link to Cloudera Documentation or Community article? (answer 0 for no, 1 for yes)\n",
    "16. Does the comment have any other type of hyperlink? (answer 0 for no, 1 for yes)\n",
    "17. Summarize the case comment condensing itas much as possible but without losing important technical details. Omit including any meeting invite information. (TEXT)\n",
    "Generate each answer in a new line using the the format \"Number. answer\" (e.g. 1. 0)\n",
    "\"\"\"\n",
    "\n",
    "for key in data.keys():\n",
    "  if key != 'Overall_Average':\n",
    "      for d in data[key]['evaluated_pairs']:\n",
    "          if d['evaluation']['score'] >4.9:\n",
    "            tmp={}\n",
    "            if d['question'] not in PriorPrompts and d['solution'].split('\\n')[0][0]== '1':\n",
    "              tmp[\"Prompt\"]=CommentText + d['question'] + PreppendClouderaQuestions\n",
    "              PriorPrompts[d['question']]=1\n",
    "    \n",
    "              tmp[\"Completion\"]=d['solution']\n",
    "              tmp[\"Comment\"]=d['question']\n",
    "\n",
    "              TrainComments.append(tmp)\n",
    "print(len(TrainComments))\n",
    "\n",
    "import json\n",
    "import random\n",
    "random.shuffle(TrainComments)\n",
    "\n",
    "with open(filename+'_Train_Clean.json', 'w') as file:\n",
    "    json.dump(TrainComments[0:1500],file)\n",
    "\n",
    "with open(filename+'_Evaluation_Clean.json', 'w') as file:\n",
    "    json.dump(TrainComments[1500:2000],file)\n"
   ]
  },
  {
   "cell_type": "code",
   "execution_count": 15,
   "id": "802cfa54-fcea-4284-a84d-15f9d2768951",
   "metadata": {},
   "outputs": [
    {
     "name": "stdout",
     "output_type": "stream",
     "text": [
      "You are given a customer comment, 17 questions referring to the comment, and the possible values for each question in parenthesis following the question. Here is the customer comment:\n",
      "\n",
      "Hi Cloudera Support,\n",
      "\n",
      "I'm seeking information about CDP's Hive capabilities in the latest version. Could you explain the ACID transaction support, materialized view features, and performance optimizations available? Also, what are the recommended configurations for optimizing query performance in large-scale data warehousing scenarios?\n",
      "\n",
      "Thanks,\n",
      "Lisa\n",
      "\n",
      "Here are the 17 questions:\n",
      "1. Does this comment discuss any technical information? (answer 0 for no, 1 for yes)\n",
      "2. Does this comment relate to a customer complaint? (answer 0 for no, 1 for yes)\n",
      "3. Customer complaint temperature or a frustration level (if there is a complain give 1 for lowest, 4 for highest and 2,3 for in between. If there is no complain give a score of 0).\n",
      "4. Score the severity of the issue based on comment content (SCORE 1-4, give 1 for lowest, 4 for highest and 2,3 for in between)\n",
      "5. Score the urgency of the issue based on the comment content (SCORE 1-4, give 1 for lowest, 4 for highest and 2,3 for in between)\n",
      "6. Is this a request from a customer for an update? (answer 0 for no, 1 for yes)\n",
      "7. Is there a strictly explicit and NOT an implied request from a customer for a call, meeting or a screenshare (zoom/webex/teams etc.)? Do not answer yes unless wording explicitly asks for a call. ((BOOL:0/1)\n",
      "8. Did the customer request an escalation? (answer 0 for no, 1 for yes)\n",
      "9. Did the customer request a priority change?  To what level? (If there is a priority change give score 1 to indicate highest priority (indicated by S1) and 4  to indicate the lowest priority (Indicated by S4). If there is no priority change give a score of 0).\n",
      "10. Did the customer request a transfer to another Customer Operations Engineer? (answer 0 for no, 1 for yes)\n",
      "11. Did the customer request to speak to a manager or supervisor? (answer 0 for no, 1 for yes)\n",
      "12. Did the customer request a Subject Matter Expert or expert? (answer 0 for no, 1 for yes)\n",
      "13. Does this comment discuss a bug in Cloudera software? (answer 0 for no, 1 for yes)\n",
      "14. Does the comment include a non-Cloudera Apache JIRA link (e.g. a Apache JIRA link with issues.apach.org domain name)? (answer 0 for no, 1 for yes)\n",
      "15. Does the comment have a link to Cloudera Documentation or Community article? (answer 0 for no, 1 for yes)\n",
      "16. Does the comment have any other type of hyperlink? (answer 0 for no, 1 for yes)\n",
      "17. Summarize the case comment condensing itas much as possible but without losing important technical details. Omit including any meeting invite information. (TEXT)\n",
      "Generate each answer in a new line using the the format \"Number. answer\" (e.g. 1. 0)\n",
      "\n"
     ]
    }
   ],
   "source": [
    "print(TrainComments[0]['Prompt'])"
   ]
  },
  {
   "cell_type": "code",
   "execution_count": 16,
   "id": "f744e0dd-bbd5-4670-ab4d-8d5a9cbf3244",
   "metadata": {},
   "outputs": [
    {
     "name": "stdout",
     "output_type": "stream",
     "text": [
      "1500\n",
      "0\n",
      "3500\n",
      "1500\n"
     ]
    }
   ],
   "source": [
    "#Merge the two types of comments\n",
    "\n",
    "file1='Data/CustomerComments_Train_Clean'\n",
    "file2='Data/ClouderaComments_Train_Clean'\n",
    "import json\n",
    "import random\n",
    "AllData=[]\n",
    "with open(file1+'.json', 'r') as file:\n",
    "  data = json.load(file)\n",
    "print(len(data))\n",
    "print(len(AllData))\n",
    "AllData.extend(data)\n",
    "with open(file2+'.json', 'r') as file:\n",
    "  data = json.load(file)\n",
    "print(len(data))\n",
    "print(len(AllData))\n",
    "\n",
    "AllData.extend(data)\n",
    "\n",
    "random.shuffle(AllData)\n",
    "\n",
    "with open('Data/AllComments_Clean_Train.json', 'w') as file:\n",
    "  json.dump(AllData,file)\n",
    "\n"
   ]
  },
  {
   "cell_type": "code",
   "execution_count": null,
   "id": "8aa884ba-09af-4bad-9af8-ab4f475ce10a",
   "metadata": {},
   "outputs": [],
   "source": [
    "***If this documentation includes code, including but not limited to, code examples, Cloudera makes this available to you under the terms of the Apache License, Version 2.0, including any required notices.  A copy of the Apache License Version 2.0 can be found [here](https://opensource.org/licenses/Apache-2.0).***"
   ]
  }
 ],
 "metadata": {
  "kernelspec": {
   "display_name": "Python 3 (ipykernel)",
   "language": "python",
   "name": "python3"
  },
  "language_info": {
   "codemirror_mode": {
    "name": "ipython",
    "version": 3
   },
   "file_extension": ".py",
   "mimetype": "text/x-python",
   "name": "python",
   "nbconvert_exporter": "python",
   "pygments_lexer": "ipython3",
   "version": "3.10.13"
  }
 },
 "nbformat": 4,
 "nbformat_minor": 5
}
